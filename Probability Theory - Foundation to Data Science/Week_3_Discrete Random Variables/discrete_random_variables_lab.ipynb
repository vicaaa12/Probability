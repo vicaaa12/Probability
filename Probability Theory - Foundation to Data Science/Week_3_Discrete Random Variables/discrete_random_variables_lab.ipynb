{
 "cells": [
  {
   "cell_type": "markdown",
   "metadata": {},
   "source": [
    "# Problem 1"
   ]
  },
  {
   "cell_type": "markdown",
   "metadata": {},
   "source": [
    "We can evaluate combinatorics such as\n",
    "$$\n",
    "\\left( \\begin{array}{c} 5\\\\ 3\\end{array}\\right) = \\frac{5!}{3! (5-3)!} = \\frac{120}{6 \\cdot 2} = 10\n",
    "$$\n",
    "in R with the \"choose\" function `choose(5,3)`.\n",
    "\n",
    "Try it in the next cell."
   ]
  },
  {
   "cell_type": "code",
   "execution_count": 1,
   "metadata": {},
   "outputs": [
    {
     "data": {
      "text/html": [
       "10"
      ],
      "text/latex": [
       "10"
      ],
      "text/markdown": [
       "10"
      ],
      "text/plain": [
       "[1] 10"
      ]
     },
     "metadata": {},
     "output_type": "display_data"
    }
   ],
   "source": [
    "# Your code here\n",
    "choose(5,3)"
   ]
  },
  {
   "cell_type": "markdown",
   "metadata": {},
   "source": [
    "R also has a factorial function."
   ]
  },
  {
   "cell_type": "code",
   "execution_count": 2,
   "metadata": {},
   "outputs": [
    {
     "data": {
      "text/html": [
       "10"
      ],
      "text/latex": [
       "10"
      ],
      "text/markdown": [
       "10"
      ],
      "text/plain": [
       "[1] 10"
      ]
     },
     "metadata": {},
     "output_type": "display_data"
    }
   ],
   "source": [
    "# Run this cell\n",
    "factorial(5)/(factorial(3)*factorial(2))"
   ]
  },
  {
   "cell_type": "markdown",
   "metadata": {},
   "source": [
    "Suppose that $X$ has the binomial distribution with parameters $n=8$ and $p=0.3$. That is, suppose that $X \\sim bin (8,0.3)$.\n",
    "\n",
    "In the next cell, find P(X=2) using the probability mass function that you learned about in this module."
   ]
  },
  {
   "cell_type": "code",
   "execution_count": 7,
   "metadata": {},
   "outputs": [
    {
     "data": {
      "text/html": [
       "0.29647548"
      ],
      "text/latex": [
       "0.29647548"
      ],
      "text/markdown": [
       "0.29647548"
      ],
      "text/plain": [
       "[1] 0.2964755"
      ]
     },
     "metadata": {},
     "output_type": "display_data"
    }
   ],
   "source": [
    "# Your code here\n",
    "dbinom(2,8,0.3)"
   ]
  },
  {
   "cell_type": "markdown",
   "metadata": {},
   "source": [
    "R has several built-in probability mass functions. For example, for $X \\sim bin(n,p)$, $P(X=x)$ can be computed by typing `dbinom(x,n,p)`. IN the next cell, confirm your previous calculation of $P(X=2)$ for $X \\sim bin(8,0.3)$ by using this function."
   ]
  },
  {
   "cell_type": "code",
   "execution_count": 3,
   "metadata": {},
   "outputs": [
    {
     "data": {
      "text/html": [
       "0.29647548"
      ],
      "text/latex": [
       "0.29647548"
      ],
      "text/markdown": [
       "0.29647548"
      ],
      "text/plain": [
       "[1] 0.2964755"
      ]
     },
     "metadata": {},
     "output_type": "display_data"
    }
   ],
   "source": [
    "# Your code here\n",
    "dbinom(2,8,0.3)"
   ]
  },
  {
   "cell_type": "markdown",
   "metadata": {},
   "source": [
    "Suppose that  $X \\sim bin (8,0.3)$ and we want to compute \n",
    "$$\n",
    "P(X \\leq 2.6) = P(X=0)+P(X=1)+P(X=2).\n",
    "$$\n",
    "Do this in the next cell using the dbinom function."
   ]
  },
  {
   "cell_type": "code",
   "execution_count": 5,
   "metadata": {},
   "outputs": [
    {
     "data": {
      "text/html": [
       "0.55177381"
      ],
      "text/latex": [
       "0.55177381"
      ],
      "text/markdown": [
       "0.55177381"
      ],
      "text/plain": [
       "[1] 0.5517738"
      ]
     },
     "metadata": {},
     "output_type": "display_data"
    }
   ],
   "source": [
    "# Your code here\n",
    "dbinom(0,8,0.3)+dbinom(1,8,0.3)+dbinom(2,8,0.3)"
   ]
  },
  {
   "cell_type": "markdown",
   "metadata": {},
   "source": [
    "Summing things in this way can get cumbersome. Fortunately, R has a built-in cumulative distribution function for the binomial distribution as well as many other commonly used distributions. To compute $P(X \\leq x)$ for the $bin(n,p)$ distribution, we would type `pbinom(x,n,p)`. Use this in the next cell to verify your calculation of $P(X \\leq 2.6)$ when $X \\sim bin(8,0.3)$."
   ]
  },
  {
   "cell_type": "code",
   "execution_count": 4,
   "metadata": {},
   "outputs": [
    {
     "data": {
      "text/html": [
       "0.55177381"
      ],
      "text/latex": [
       "0.55177381"
      ],
      "text/markdown": [
       "0.55177381"
      ],
      "text/plain": [
       "[1] 0.5517738"
      ]
     },
     "metadata": {},
     "output_type": "display_data"
    }
   ],
   "source": [
    "# Your code here\n",
    "pbinom(2,8,0.3)"
   ]
  },
  {
   "cell_type": "markdown",
   "metadata": {},
   "source": [
    "Visit https://stat.ethz.ch/R-manual/R-devel/library/stats/html/Distributions.html to see a list of discrete distributions whose pmfs and cdfs are available in R!"
   ]
  },
  {
   "cell_type": "markdown",
   "metadata": {},
   "source": [
    "<hr>"
   ]
  },
  {
   "cell_type": "markdown",
   "metadata": {},
   "source": [
    "# Problem 2"
   ]
  },
  {
   "cell_type": "markdown",
   "metadata": {},
   "source": [
    "Suppose that $X$ has a Poisson distribution with parameter $\\lambda = 3.2$. Recall that the probability mass function is\n",
    "$$\n",
    "P(X=x) = \\frac{e^{-\\lambda} \\lambda^{x}}{x!}\n",
    "$$\n",
    "for $x=0,1,2,\\ldots$."
   ]
  },
  {
   "cell_type": "markdown",
   "metadata": {},
   "source": [
    "Compute $P(X=5)$ using this formula an R."
   ]
  },
  {
   "cell_type": "code",
   "execution_count": 8,
   "metadata": {},
   "outputs": [
    {
     "data": {
      "text/html": [
       "0.113979383463518"
      ],
      "text/latex": [
       "0.113979383463518"
      ],
      "text/markdown": [
       "0.113979383463518"
      ],
      "text/plain": [
       "[1] 0.1139794"
      ]
     },
     "metadata": {},
     "output_type": "display_data"
    }
   ],
   "source": [
    "# Your code here\n",
    "(exp(-3.2) * 3.2^5) / factorial(5)"
   ]
  },
  {
   "cell_type": "markdown",
   "metadata": {},
   "source": [
    "Now, guess at the command to do this with the built-in probability mass function based on what you learned with the binomial distribution. Make sure your answers match before moving on with this lab!"
   ]
  },
  {
   "cell_type": "code",
   "execution_count": 9,
   "metadata": {},
   "outputs": [
    {
     "data": {
      "text/html": [
       "0.113979383463518"
      ],
      "text/latex": [
       "0.113979383463518"
      ],
      "text/markdown": [
       "0.113979383463518"
      ],
      "text/plain": [
       "[1] 0.1139794"
      ]
     },
     "metadata": {},
     "output_type": "display_data"
    }
   ],
   "source": [
    "# Your code here.\n",
    "dpois(5,3.2)"
   ]
  },
  {
   "cell_type": "markdown",
   "metadata": {},
   "source": [
    "Use the R function for the cdf to determine, via trial and error, the smallest value of $x$ so that $P(X \\leq x)$ first becomes greater than $0.9$."
   ]
  },
  {
   "cell_type": "code",
   "execution_count": 10,
   "metadata": {},
   "outputs": [
    {
     "data": {
      "text/html": [
       "6"
      ],
      "text/latex": [
       "6"
      ],
      "text/markdown": [
       "6"
      ],
      "text/plain": [
       "[1] 6"
      ]
     },
     "metadata": {},
     "output_type": "display_data"
    },
    {
     "data": {
      "text/html": [
       "0.955380899044699"
      ],
      "text/latex": [
       "0.955380899044699"
      ],
      "text/markdown": [
       "0.955380899044699"
      ],
      "text/plain": [
       "[1] 0.9553809"
      ]
     },
     "metadata": {},
     "output_type": "display_data"
    }
   ],
   "source": [
    "# Your code here.\n",
    "# Given parameter\n",
    "lambda <- 3.2  # The rate parameter λ\n",
    "\n",
    "# Start trial and error to find the smallest x such that P(X <= x) > 0.9\n",
    "x <- 0\n",
    "cumulative_prob <- 0\n",
    "\n",
    "# Increment x until the cumulative probability exceeds 0.9\n",
    "while (cumulative_prob <= 0.9) {\n",
    "  cumulative_prob <- ppois(x, lambda)\n",
    "  x <- x + 1\n",
    "}\n",
    "\n",
    "# Since x is incremented after finding the condition, subtract 1 to get the correct x value\n",
    "smallest_x <- x - 1\n",
    "\n",
    "# Print the smallest x value and its corresponding cumulative probability\n",
    "smallest_x\n",
    "cumulative_prob"
   ]
  },
  {
   "cell_type": "markdown",
   "metadata": {},
   "source": [
    "<hr>"
   ]
  },
  {
   "cell_type": "markdown",
   "metadata": {},
   "source": [
    "# Problem Three"
   ]
  },
  {
   "cell_type": "markdown",
   "metadata": {},
   "source": [
    "If you flip a coin one time and observe \"Heads\" can you tell whether or not the coin is fair? The answer is no. You would need to do it many times. Simulation from a distribution is an algorithm that outputs numbers. When you collect many of these numbers, the proportion of time you observe a particular number should be close to the true probability that the distribution gives to that number.\n",
    "\n",
    "R has some built-in distribution simulation functions. To simulate 10,000 values from the $bin(8,0.3)$ distribution, we would type `rbinom(10000,8,0.3)`. In the next cell we save the output to a vector called \"mysample\". Write a line or two of R code to compute the proportion of 2's in the sample and compare it to the corresponding probability from Problem 1 of the lab."
   ]
  },
  {
   "cell_type": "code",
   "execution_count": 12,
   "metadata": {},
   "outputs": [
    {
     "data": {
      "text/html": [
       "0.2951"
      ],
      "text/latex": [
       "0.2951"
      ],
      "text/markdown": [
       "0.2951"
      ],
      "text/plain": [
       "[1] 0.2951"
      ]
     },
     "metadata": {},
     "output_type": "display_data"
    },
    {
     "data": {
      "text/html": [
       "0.29647548"
      ],
      "text/latex": [
       "0.29647548"
      ],
      "text/markdown": [
       "0.29647548"
      ],
      "text/plain": [
       "[1] 0.2964755"
      ]
     },
     "metadata": {},
     "output_type": "display_data"
    }
   ],
   "source": [
    "# Run this cell\n",
    "mysample = rbinom(10000,8,0.3)\n",
    "\n",
    "# Write code here to determine the proportion of times the output is 2 \n",
    "# and compare it to the true probability that $P(X=2)$.\n",
    "# Calculate the proportion of times the value 2 appears in the sample\n",
    "proportion_of_2 <- sum(mysample == 2) / length(mysample)\n",
    "\n",
    "# Calculate the true probability P(X = 2) using the binomial PMF\n",
    "true_probability <- dbinom(2, 8, 0.3)\n",
    "\n",
    "# Print the results\n",
    "proportion_of_2\n",
    "true_probability"
   ]
  },
  {
   "cell_type": "code",
   "execution_count": 13,
   "metadata": {},
   "outputs": [
    {
     "data": {
      "text/plain": [
       "mysample\n",
       "   0    1    2    3    4    5    6    7    8 \n",
       " 560 1966 2951 2582 1365  460  103   12    1 "
      ]
     },
     "metadata": {},
     "output_type": "display_data"
    }
   ],
   "source": [
    "# Here is a function to tabulate the frequencies for all values\n",
    "table(mysample)\n"
   ]
  },
  {
   "cell_type": "code",
   "execution_count": 14,
   "metadata": {},
   "outputs": [
    {
     "data": {
      "text/plain": [
       "mysample\n",
       "     0      1      2      3      4      5      6      7      8 \n",
       "0.0560 0.1966 0.2951 0.2582 0.1365 0.0460 0.0103 0.0012 0.0001 "
      ]
     },
     "metadata": {},
     "output_type": "display_data"
    }
   ],
   "source": [
    "# We can turn these into proportions as follows\n",
    "table(mysample)/10000\n"
   ]
  },
  {
   "cell_type": "markdown",
   "metadata": {},
   "source": [
    "There is a chance that you did not observe any 8's because these occur with a very low probability. Run the code in the next cell several times to look at some different samples. Watch the 8 come and go!"
   ]
  },
  {
   "cell_type": "code",
   "execution_count": 15,
   "metadata": {},
   "outputs": [
    {
     "data": {
      "text/plain": [
       "mysample\n",
       "     0      1      2      3      4      5      6      7      8 \n",
       "0.0616 0.1902 0.2890 0.2588 0.1442 0.0453 0.0095 0.0013 0.0001 "
      ]
     },
     "metadata": {},
     "output_type": "display_data"
    }
   ],
   "source": [
    "# Run this cell several times\n",
    "mysample = rbinom(10000,8,0.3)\n",
    "table(mysample)/10000\n"
   ]
  },
  {
   "cell_type": "markdown",
   "metadata": {},
   "source": [
    "Let's make a histogram of the last sample we generated. We will make the base of each rectangle 1 unit wide and centered on the corresponding number. We will also use \"prob=T\" to make the height of the rectangles in a way that the total area of each rectangle is equal to the observed proportions in the sample."
   ]
  },
  {
   "cell_type": "code",
   "execution_count": 16,
   "metadata": {},
   "outputs": [
    {
     "data": {
      "image/png": "[encoded data removed]",
      "text/plain": [
       "Plot with title “Histogram of mysample”"
      ]
     },
     "metadata": {
      "image/png": {
       "height": 420,
       "width": 420
      },
      "text/plain": {
       "height": 420,
       "width": 420
      }
     },
     "output_type": "display_data"
    }
   ],
   "source": [
    "# Run this cell\n",
    "br<-seq(-0.5,8.5,1)\n",
    "hist(mysample,prob=T,breaks=br)"
   ]
  },
  {
   "cell_type": "code",
   "execution_count": null,
   "metadata": {},
   "outputs": [],
   "source": []
  }
 ],
 "metadata": {
  "kernelspec": {
   "display_name": "R",
   "language": "R",
   "name": "ir"
  },
  "language_info": {
   "codemirror_mode": "r",
   "file_extension": ".r",
   "mimetype": "text/x-r-source",
   "name": "R",
   "pygments_lexer": "r",
   "version": "3.6.3"
  }
 },
 "nbformat": 4,
 "nbformat_minor": 4
}
