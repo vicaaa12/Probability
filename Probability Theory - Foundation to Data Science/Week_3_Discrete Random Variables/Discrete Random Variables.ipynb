{
  "nbformat": 4,
  "nbformat_minor": 0,
  "metadata": {
    "colab": {
      "provenance": []
    },
    "kernelspec": {
      "name": "ir",
      "display_name": "R"
    },
    "language_info": {
      "name": "R"
    }
  },
  "cells": [
    {
      "cell_type": "code",
      "execution_count": null,
      "metadata": {
        "colab": {
          "base_uri": "https://localhost:8080/",
          "height": 1000
        },
        "id": "GN869dMeSLZJ",
        "outputId": "e197d030-0a0e-4d30-ffbf-d6b42fc0babc"
      },
      "outputs": [
        {
          "output_type": "display_data",
          "data": {
            "text/html": [
              "<table class=\"dataframe\">\n",
              "<caption>A data.frame: 101 × 2</caption>\n",
              "<thead>\n",
              "\t<tr><th></th><th scope=col>roll1</th><th scope=col>roll2</th></tr>\n",
              "\t<tr><th></th><th scope=col>&lt;int&gt;</th><th scope=col>&lt;int&gt;</th></tr>\n",
              "</thead>\n",
              "<tbody>\n",
              "\t<tr><th scope=row>3</th><td>3</td><td>2</td></tr>\n",
              "\t<tr><th scope=row>7</th><td>4</td><td>1</td></tr>\n",
              "\t<tr><th scope=row>13</th><td>4</td><td>1</td></tr>\n",
              "\t<tr><th scope=row>16</th><td>1</td><td>4</td></tr>\n",
              "\t<tr><th scope=row>18</th><td>4</td><td>1</td></tr>\n",
              "\t<tr><th scope=row>28</th><td>1</td><td>4</td></tr>\n",
              "\t<tr><th scope=row>32</th><td>1</td><td>4</td></tr>\n",
              "\t<tr><th scope=row>35</th><td>4</td><td>1</td></tr>\n",
              "\t<tr><th scope=row>42</th><td>2</td><td>3</td></tr>\n",
              "\t<tr><th scope=row>43</th><td>1</td><td>4</td></tr>\n",
              "\t<tr><th scope=row>56</th><td>1</td><td>4</td></tr>\n",
              "\t<tr><th scope=row>61</th><td>3</td><td>2</td></tr>\n",
              "\t<tr><th scope=row>75</th><td>1</td><td>4</td></tr>\n",
              "\t<tr><th scope=row>93</th><td>3</td><td>2</td></tr>\n",
              "\t<tr><th scope=row>119</th><td>4</td><td>1</td></tr>\n",
              "\t<tr><th scope=row>130</th><td>4</td><td>1</td></tr>\n",
              "\t<tr><th scope=row>161</th><td>3</td><td>2</td></tr>\n",
              "\t<tr><th scope=row>164</th><td>3</td><td>2</td></tr>\n",
              "\t<tr><th scope=row>171</th><td>3</td><td>2</td></tr>\n",
              "\t<tr><th scope=row>184</th><td>3</td><td>2</td></tr>\n",
              "\t<tr><th scope=row>209</th><td>3</td><td>2</td></tr>\n",
              "\t<tr><th scope=row>225</th><td>1</td><td>4</td></tr>\n",
              "\t<tr><th scope=row>227</th><td>3</td><td>2</td></tr>\n",
              "\t<tr><th scope=row>236</th><td>4</td><td>1</td></tr>\n",
              "\t<tr><th scope=row>240</th><td>4</td><td>1</td></tr>\n",
              "\t<tr><th scope=row>244</th><td>2</td><td>3</td></tr>\n",
              "\t<tr><th scope=row>245</th><td>1</td><td>4</td></tr>\n",
              "\t<tr><th scope=row>249</th><td>3</td><td>2</td></tr>\n",
              "\t<tr><th scope=row>255</th><td>1</td><td>4</td></tr>\n",
              "\t<tr><th scope=row>265</th><td>3</td><td>2</td></tr>\n",
              "\t<tr><th scope=row>⋮</th><td>⋮</td><td>⋮</td></tr>\n",
              "\t<tr><th scope=row>688</th><td>2</td><td>3</td></tr>\n",
              "\t<tr><th scope=row>690</th><td>2</td><td>3</td></tr>\n",
              "\t<tr><th scope=row>691</th><td>4</td><td>1</td></tr>\n",
              "\t<tr><th scope=row>692</th><td>2</td><td>3</td></tr>\n",
              "\t<tr><th scope=row>693</th><td>1</td><td>4</td></tr>\n",
              "\t<tr><th scope=row>695</th><td>4</td><td>1</td></tr>\n",
              "\t<tr><th scope=row>696</th><td>3</td><td>2</td></tr>\n",
              "\t<tr><th scope=row>708</th><td>1</td><td>4</td></tr>\n",
              "\t<tr><th scope=row>725</th><td>3</td><td>2</td></tr>\n",
              "\t<tr><th scope=row>741</th><td>2</td><td>3</td></tr>\n",
              "\t<tr><th scope=row>749</th><td>1</td><td>4</td></tr>\n",
              "\t<tr><th scope=row>753</th><td>3</td><td>2</td></tr>\n",
              "\t<tr><th scope=row>769</th><td>3</td><td>2</td></tr>\n",
              "\t<tr><th scope=row>781</th><td>4</td><td>1</td></tr>\n",
              "\t<tr><th scope=row>797</th><td>3</td><td>2</td></tr>\n",
              "\t<tr><th scope=row>839</th><td>4</td><td>1</td></tr>\n",
              "\t<tr><th scope=row>844</th><td>3</td><td>2</td></tr>\n",
              "\t<tr><th scope=row>847</th><td>2</td><td>3</td></tr>\n",
              "\t<tr><th scope=row>860</th><td>3</td><td>2</td></tr>\n",
              "\t<tr><th scope=row>863</th><td>1</td><td>4</td></tr>\n",
              "\t<tr><th scope=row>868</th><td>3</td><td>2</td></tr>\n",
              "\t<tr><th scope=row>871</th><td>1</td><td>4</td></tr>\n",
              "\t<tr><th scope=row>901</th><td>2</td><td>3</td></tr>\n",
              "\t<tr><th scope=row>908</th><td>1</td><td>4</td></tr>\n",
              "\t<tr><th scope=row>927</th><td>3</td><td>2</td></tr>\n",
              "\t<tr><th scope=row>947</th><td>3</td><td>2</td></tr>\n",
              "\t<tr><th scope=row>974</th><td>3</td><td>2</td></tr>\n",
              "\t<tr><th scope=row>980</th><td>2</td><td>3</td></tr>\n",
              "\t<tr><th scope=row>984</th><td>3</td><td>2</td></tr>\n",
              "\t<tr><th scope=row>988</th><td>1</td><td>4</td></tr>\n",
              "</tbody>\n",
              "</table>\n"
            ],
            "text/markdown": "\nA data.frame: 101 × 2\n\n| <!--/--> | roll1 &lt;int&gt; | roll2 &lt;int&gt; |\n|---|---|---|\n| 3 | 3 | 2 |\n| 7 | 4 | 1 |\n| 13 | 4 | 1 |\n| 16 | 1 | 4 |\n| 18 | 4 | 1 |\n| 28 | 1 | 4 |\n| 32 | 1 | 4 |\n| 35 | 4 | 1 |\n| 42 | 2 | 3 |\n| 43 | 1 | 4 |\n| 56 | 1 | 4 |\n| 61 | 3 | 2 |\n| 75 | 1 | 4 |\n| 93 | 3 | 2 |\n| 119 | 4 | 1 |\n| 130 | 4 | 1 |\n| 161 | 3 | 2 |\n| 164 | 3 | 2 |\n| 171 | 3 | 2 |\n| 184 | 3 | 2 |\n| 209 | 3 | 2 |\n| 225 | 1 | 4 |\n| 227 | 3 | 2 |\n| 236 | 4 | 1 |\n| 240 | 4 | 1 |\n| 244 | 2 | 3 |\n| 245 | 1 | 4 |\n| 249 | 3 | 2 |\n| 255 | 1 | 4 |\n| 265 | 3 | 2 |\n| ⋮ | ⋮ | ⋮ |\n| 688 | 2 | 3 |\n| 690 | 2 | 3 |\n| 691 | 4 | 1 |\n| 692 | 2 | 3 |\n| 693 | 1 | 4 |\n| 695 | 4 | 1 |\n| 696 | 3 | 2 |\n| 708 | 1 | 4 |\n| 725 | 3 | 2 |\n| 741 | 2 | 3 |\n| 749 | 1 | 4 |\n| 753 | 3 | 2 |\n| 769 | 3 | 2 |\n| 781 | 4 | 1 |\n| 797 | 3 | 2 |\n| 839 | 4 | 1 |\n| 844 | 3 | 2 |\n| 847 | 2 | 3 |\n| 860 | 3 | 2 |\n| 863 | 1 | 4 |\n| 868 | 3 | 2 |\n| 871 | 1 | 4 |\n| 901 | 2 | 3 |\n| 908 | 1 | 4 |\n| 927 | 3 | 2 |\n| 947 | 3 | 2 |\n| 974 | 3 | 2 |\n| 980 | 2 | 3 |\n| 984 | 3 | 2 |\n| 988 | 1 | 4 |\n\n",
            "text/latex": "A data.frame: 101 × 2\n\\begin{tabular}{r|ll}\n  & roll1 & roll2\\\\\n  & <int> & <int>\\\\\n\\hline\n\t3 & 3 & 2\\\\\n\t7 & 4 & 1\\\\\n\t13 & 4 & 1\\\\\n\t16 & 1 & 4\\\\\n\t18 & 4 & 1\\\\\n\t28 & 1 & 4\\\\\n\t32 & 1 & 4\\\\\n\t35 & 4 & 1\\\\\n\t42 & 2 & 3\\\\\n\t43 & 1 & 4\\\\\n\t56 & 1 & 4\\\\\n\t61 & 3 & 2\\\\\n\t75 & 1 & 4\\\\\n\t93 & 3 & 2\\\\\n\t119 & 4 & 1\\\\\n\t130 & 4 & 1\\\\\n\t161 & 3 & 2\\\\\n\t164 & 3 & 2\\\\\n\t171 & 3 & 2\\\\\n\t184 & 3 & 2\\\\\n\t209 & 3 & 2\\\\\n\t225 & 1 & 4\\\\\n\t227 & 3 & 2\\\\\n\t236 & 4 & 1\\\\\n\t240 & 4 & 1\\\\\n\t244 & 2 & 3\\\\\n\t245 & 1 & 4\\\\\n\t249 & 3 & 2\\\\\n\t255 & 1 & 4\\\\\n\t265 & 3 & 2\\\\\n\t⋮ & ⋮ & ⋮\\\\\n\t688 & 2 & 3\\\\\n\t690 & 2 & 3\\\\\n\t691 & 4 & 1\\\\\n\t692 & 2 & 3\\\\\n\t693 & 1 & 4\\\\\n\t695 & 4 & 1\\\\\n\t696 & 3 & 2\\\\\n\t708 & 1 & 4\\\\\n\t725 & 3 & 2\\\\\n\t741 & 2 & 3\\\\\n\t749 & 1 & 4\\\\\n\t753 & 3 & 2\\\\\n\t769 & 3 & 2\\\\\n\t781 & 4 & 1\\\\\n\t797 & 3 & 2\\\\\n\t839 & 4 & 1\\\\\n\t844 & 3 & 2\\\\\n\t847 & 2 & 3\\\\\n\t860 & 3 & 2\\\\\n\t863 & 1 & 4\\\\\n\t868 & 3 & 2\\\\\n\t871 & 1 & 4\\\\\n\t901 & 2 & 3\\\\\n\t908 & 1 & 4\\\\\n\t927 & 3 & 2\\\\\n\t947 & 3 & 2\\\\\n\t974 & 3 & 2\\\\\n\t980 & 2 & 3\\\\\n\t984 & 3 & 2\\\\\n\t988 & 1 & 4\\\\\n\\end{tabular}\n",
            "text/plain": [
              "    roll1 roll2\n",
              "3   3     2    \n",
              "7   4     1    \n",
              "13  4     1    \n",
              "16  1     4    \n",
              "18  4     1    \n",
              "28  1     4    \n",
              "32  1     4    \n",
              "35  4     1    \n",
              "42  2     3    \n",
              "43  1     4    \n",
              "56  1     4    \n",
              "61  3     2    \n",
              "75  1     4    \n",
              "93  3     2    \n",
              "119 4     1    \n",
              "130 4     1    \n",
              "161 3     2    \n",
              "164 3     2    \n",
              "171 3     2    \n",
              "184 3     2    \n",
              "209 3     2    \n",
              "225 1     4    \n",
              "227 3     2    \n",
              "236 4     1    \n",
              "240 4     1    \n",
              "244 2     3    \n",
              "245 1     4    \n",
              "249 3     2    \n",
              "255 1     4    \n",
              "265 3     2    \n",
              "⋮   ⋮     ⋮    \n",
              "688 2     3    \n",
              "690 2     3    \n",
              "691 4     1    \n",
              "692 2     3    \n",
              "693 1     4    \n",
              "695 4     1    \n",
              "696 3     2    \n",
              "708 1     4    \n",
              "725 3     2    \n",
              "741 2     3    \n",
              "749 1     4    \n",
              "753 3     2    \n",
              "769 3     2    \n",
              "781 4     1    \n",
              "797 3     2    \n",
              "839 4     1    \n",
              "844 3     2    \n",
              "847 2     3    \n",
              "860 3     2    \n",
              "863 1     4    \n",
              "868 3     2    \n",
              "871 1     4    \n",
              "901 2     3    \n",
              "908 1     4    \n",
              "927 3     2    \n",
              "947 3     2    \n",
              "974 3     2    \n",
              "980 2     3    \n",
              "984 3     2    \n",
              "988 1     4    "
            ]
          },
          "metadata": {}
        }
      ],
      "source": [
        "\n",
        "# Simulate values\n",
        "roll1 = sample(1:6,1000,replace=TRUE)\n",
        "roll2 = sample(1:6,1000,replace=TRUE)\n",
        "\n",
        "# Put the two columns together (\"cbind\" stands for \"column bind\")\n",
        "mydata = cbind(roll1,roll2)\n",
        "\n",
        "# Change from a matrix to a data frame so that we can access elements\n",
        "# using the names \"roll1\" and \"roll2\"\n",
        "mydata = as.data.frame(mydata)\n",
        "\n",
        "# Here is a subset of the data frame that you might want to look at.\n",
        "# Recall that the squre brackets can be read as \"such that\".\n",
        "mydata[mydata$roll1+mydata$roll2==5,]\n"
      ]
    },
    {
      "cell_type": "code",
      "source": [
        "# Calculate the probability P(A|B)\n",
        "# Event B: At least one die shows a 4\n",
        "B_cases = mydata[(mydata$roll1==4 | mydata$roll2==4),]\n",
        "# Event A ∩ B: Sum equals 5 and at least one die is a 4\n",
        "A_and_B_cases = B_cases[(B_cases$roll1 + B_cases$roll2 == 5),]\n",
        "# Probability P(A|B)\n",
        "P_A_given_B = nrow(A_and_B_cases) / nrow(B_cases)\n",
        "\n",
        "# Print the result\n",
        "print(paste(\"The simulated probability P(A|B) is\", P_A_given_B))"
      ],
      "metadata": {
        "colab": {
          "base_uri": "https://localhost:8080/"
        },
        "id": "iWpVtCMJVZTk",
        "outputId": "e5bd4b74-e0b9-43b6-9d00-3ff7d38808a4"
      },
      "execution_count": null,
      "outputs": [
        {
          "output_type": "stream",
          "name": "stdout",
          "text": [
            "[1] \"The simulated probability P(A|B) is 0.16887417218543\"\n"
          ]
        }
      ]
    }
  ]
}